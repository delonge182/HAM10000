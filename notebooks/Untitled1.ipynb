{
 "cells": [
  {
   "cell_type": "code",
   "execution_count": 1,
   "metadata": {},
   "outputs": [
    {
     "name": "stderr",
     "output_type": "stream",
     "text": [
      "Using TensorFlow backend.\n"
     ]
    }
   ],
   "source": [
    "import numpy as np\n",
    "import pandas as pd\n",
    "import os\n",
    "base_skin_dir = 'data'\n",
    "from keras.utils.np_utils import to_categorical\n",
    "import matplotlib.pyplot as plt\n",
    "import seaborn as sns"
   ]
  },
  {
   "cell_type": "code",
   "execution_count": 2,
   "metadata": {},
   "outputs": [],
   "source": [
    "lesion_type_dict = {\n",
    "    'nv': 'Melanocytic nevi',\n",
    "    'mel': 'Melanoma',\n",
    "    'bkl': 'Benign keratosis-like lesions',\n",
    "    'bcc': 'Basal cell carcinoma',\n",
    "    'akiec': 'Actinic keratoses',\n",
    "    'vasc': 'Vascular lesions',\n",
    "    'df': 'Dermatofibroma'\n",
    "}"
   ]
  },
  {
   "cell_type": "code",
   "execution_count": 3,
   "metadata": {},
   "outputs": [
    {
     "data": {
      "text/plain": [
       "Index(['lesion_id', 'image_id', 'dx', 'dx_type', 'age', 'sex', 'localization',\n",
       "       'cell_type', 'cell_type_idx', 'localization_code'],\n",
       "      dtype='object')"
      ]
     },
     "execution_count": 3,
     "metadata": {},
     "output_type": "execute_result"
    }
   ],
   "source": [
    "tile_df = pd.read_csv(os.path.join(base_skin_dir, 'HAM10000_metadata.csv'))\n",
    "#tile_df = tile_df.sample(10001)\n",
    "tile_df['cell_type'] = tile_df['dx'].map(lesion_type_dict.get) \n",
    "tile_df['cell_type_idx'] = pd.Categorical(tile_df['cell_type']).codes\n",
    "tile_df['localization_code'] = pd.Categorical(tile_df['localization']).codes\n",
    "tile_df['sex'] = pd.Categorical(tile_df['sex']).codes\n",
    "\n",
    "tile_df.columns\n"
   ]
  },
  {
   "cell_type": "code",
   "execution_count": 4,
   "metadata": {},
   "outputs": [],
   "source": [
    "tile_df.age.fillna(tile_df.age.median(),inplace=True)"
   ]
  },
  {
   "cell_type": "code",
   "execution_count": 5,
   "metadata": {},
   "outputs": [],
   "source": [
    "plot_df = tile_df.iloc[:, [4, 5, 8, 9]]\n",
    "data_train_x = tile_df.iloc[:, [4]]\n",
    "data_train_y = tile_df.iloc[:,8]"
   ]
  },
  {
   "cell_type": "code",
   "execution_count": 6,
   "metadata": {},
   "outputs": [
    {
     "data": {
      "text/plain": [
       "age    0\n",
       "dtype: int64"
      ]
     },
     "execution_count": 6,
     "metadata": {},
     "output_type": "execute_result"
    }
   ],
   "source": [
    "data_train_x.isnull().sum()"
   ]
  },
  {
   "cell_type": "code",
   "execution_count": 7,
   "metadata": {
    "scrolled": false
   },
   "outputs": [
    {
     "data": {
      "text/plain": [
       "1"
      ]
     },
     "execution_count": 7,
     "metadata": {},
     "output_type": "execute_result"
    }
   ],
   "source": [
    "#data_train_x['age'].value_counts()\n",
    "#data_train_x['sex'].value_counts()\n",
    "#data_train_x['localization'].value_counts()\n",
    "1"
   ]
  },
  {
   "cell_type": "code",
   "execution_count": 8,
   "metadata": {},
   "outputs": [],
   "source": [
    "y = tile_df.cell_type_idx\n",
    "\n",
    "from sklearn.model_selection import train_test_split\n",
    "x_train_o, x_test_o, y_train_o, y_test_o = train_test_split(data_train_x, data_train_y, test_size=0.25, random_state = 42)\n",
    "\n",
    "#x_train_add = np.asarray([x_train_o['localization'], x_train_o['sex'], x_train_o['age']])\n",
    "#x_test_add = np.asarray([x_test_o['localization'], x_test_o['sex'], x_test_o['age']])\n",
    "\n",
    "# Perform one-hot encoding on the labels\n",
    "y_train = to_categorical(y_train_o, num_classes = 7)\n",
    "y_test = to_categorical(y_test_o, num_classes = 7)"
   ]
  },
  {
   "cell_type": "code",
   "execution_count": 9,
   "metadata": {},
   "outputs": [],
   "source": [
    "from sklearn.neural_network import MLPClassifier\n",
    "from sklearn.model_selection import train_test_split\n",
    "from sklearn.metrics import accuracy_score\n",
    "from sklearn.metrics import confusion_matrix"
   ]
  },
  {
   "cell_type": "code",
   "execution_count": 10,
   "metadata": {},
   "outputs": [],
   "source": [
    "clf = MLPClassifier(hidden_layer_sizes=(100,100,100), max_iter=500, alpha=0.0001,\n",
    "                     solver='sgd', verbose=10,  random_state=21,tol=0.000000001)"
   ]
  },
  {
   "cell_type": "code",
   "execution_count": 11,
   "metadata": {},
   "outputs": [
    {
     "name": "stdout",
     "output_type": "stream",
     "text": [
      "Iteration 1, loss = 2.36271835\n",
      "Iteration 2, loss = 2.11628547\n",
      "Iteration 3, loss = 2.09486614\n",
      "Iteration 4, loss = 2.07351172\n",
      "Iteration 5, loss = 2.05240498\n",
      "Iteration 6, loss = 2.03857704\n",
      "Iteration 7, loss = 2.01361270\n",
      "Iteration 8, loss = 1.99819056\n",
      "Iteration 9, loss = 1.96990722\n",
      "Iteration 10, loss = 1.95368301\n",
      "Iteration 11, loss = 1.93329642\n",
      "Iteration 12, loss = 1.90797345\n",
      "Iteration 13, loss = 1.91327730\n",
      "Iteration 14, loss = 1.87699115\n",
      "Iteration 15, loss = 1.87785400\n",
      "Iteration 16, loss = 1.90542237\n",
      "Iteration 17, loss = 1.85624298\n",
      "Iteration 18, loss = 1.83642368\n",
      "Iteration 19, loss = 1.81355584\n",
      "Iteration 20, loss = 1.80892094\n",
      "Iteration 21, loss = 1.80410441\n",
      "Iteration 22, loss = 1.78911208\n",
      "Iteration 23, loss = 1.77559709\n",
      "Iteration 24, loss = 1.78237421\n",
      "Iteration 25, loss = 1.75379355\n",
      "Iteration 26, loss = 1.75530457\n",
      "Iteration 27, loss = 1.74764104\n",
      "Iteration 28, loss = 1.72225771\n",
      "Iteration 29, loss = 1.74073983\n",
      "Iteration 30, loss = 1.71778936\n",
      "Iteration 31, loss = 1.71833940\n",
      "Iteration 32, loss = 1.72649196\n",
      "Iteration 33, loss = 1.69461988\n",
      "Iteration 34, loss = 1.69453334\n",
      "Iteration 35, loss = 1.68431484\n",
      "Iteration 36, loss = 1.68789265\n",
      "Iteration 37, loss = 1.67607966\n",
      "Iteration 38, loss = 1.68560497\n",
      "Iteration 39, loss = 1.66512819\n",
      "Iteration 40, loss = 1.67447126\n",
      "Iteration 41, loss = 1.67587165\n",
      "Iteration 42, loss = 1.66885091\n",
      "Iteration 43, loss = 1.65455268\n",
      "Iteration 44, loss = 1.67635947\n",
      "Iteration 45, loss = 1.65048166\n",
      "Iteration 46, loss = 1.65909250\n",
      "Iteration 47, loss = 1.65073605\n",
      "Iteration 48, loss = 1.63889624\n",
      "Iteration 49, loss = 1.65899106\n",
      "Iteration 50, loss = 1.64633713\n",
      "Iteration 51, loss = 1.65579134\n",
      "Iteration 52, loss = 1.65029094\n",
      "Iteration 53, loss = 1.63572022\n",
      "Iteration 54, loss = 1.63560837\n",
      "Iteration 55, loss = 1.63968519\n",
      "Iteration 56, loss = 1.65095899\n",
      "Iteration 57, loss = 1.63891951\n",
      "Iteration 58, loss = 1.63201493\n",
      "Iteration 59, loss = 1.62531277\n",
      "Iteration 60, loss = 1.63540796\n",
      "Iteration 61, loss = 1.63439200\n",
      "Iteration 62, loss = 1.62951124\n",
      "Iteration 63, loss = 1.63775657\n",
      "Iteration 64, loss = 1.63247728\n",
      "Iteration 65, loss = 1.62896319\n",
      "Iteration 66, loss = 1.62732183\n",
      "Iteration 67, loss = 1.62717476\n",
      "Iteration 68, loss = 1.62916924\n",
      "Iteration 69, loss = 1.62787483\n",
      "Iteration 70, loss = 1.62993694\n",
      "Training loss did not improve more than tol=0.000000 for 10 consecutive epochs. Stopping.\n"
     ]
    }
   ],
   "source": [
    "clf.fit(x_train_o, y_train)\n",
    "y_pred = clf.predict(x_test_o)"
   ]
  },
  {
   "cell_type": "code",
   "execution_count": 12,
   "metadata": {},
   "outputs": [
    {
     "data": {
      "text/plain": [
       "0.6038338658146964"
      ]
     },
     "execution_count": 12,
     "metadata": {},
     "output_type": "execute_result"
    }
   ],
   "source": [
    "clf.score(x_test_o, y_test)"
   ]
  },
  {
   "cell_type": "code",
   "execution_count": null,
   "metadata": {},
   "outputs": [],
   "source": [
    "plt.figure(figsize=(15,6))\n",
    "sns.heatmap(titanic_train_dataset.drop('PassengerId',axis=1).corr(), vmax=0.6, square=True, annot=True)"
   ]
  },
  {
   "cell_type": "code",
   "execution_count": 19,
   "metadata": {},
   "outputs": [
    {
     "data": {
      "text/plain": [
       "<matplotlib.axes._subplots.AxesSubplot at 0x7fdc93c3c978>"
      ]
     },
     "execution_count": 19,
     "metadata": {},
     "output_type": "execute_result"
    },
    {
     "data": {
      "image/png": "[encoded data removed]",
      "text/plain": [
       "<Figure size 432x288 with 1 Axes>"
      ]
     },
     "metadata": {
      "needs_background": "light"
     },
     "output_type": "display_data"
    }
   ],
   "source": [
    "sns.countplot(x='age', hue='cell_type', data=tile_df[tile_df['cell_type']=='Melanocytic nevi'], palette=\"muted\")"
   ]
  },
  {
   "cell_type": "code",
   "execution_count": 25,
   "metadata": {
    "scrolled": true
   },
   "outputs": [
    {
     "data": {
      "text/plain": [
       "<matplotlib.axes._subplots.AxesSubplot at 0x7fdc93972208>"
      ]
     },
     "execution_count": 25,
     "metadata": {},
     "output_type": "execute_result"
    },
    {
     "data": {
      "image/png": "[encoded data removed]",
      "text/plain": [
       "<Figure size 432x288 with 1 Axes>"
      ]
     },
     "metadata": {
      "needs_background": "light"
     },
     "output_type": "display_data"
    }
   ],
   "source": [
    "sns.countplot(x='age', hue='cell_type', data=tile_df[tile_df['cell_type']=='Dermatofibroma'], palette=\"muted\")"
   ]
  },
  {
   "cell_type": "code",
   "execution_count": 10,
   "metadata": {},
   "outputs": [
    {
     "data": {
      "text/plain": [
       "<matplotlib.legend.Legend at 0x7fdc9935d668>"
      ]
     },
     "execution_count": 10,
     "metadata": {},
     "output_type": "execute_result"
    },
    {
     "data": {
      "image/png": "[encoded data removed]",
      "text/plain": [
       "<Figure size 1080x576 with 1 Axes>"
      ]
     },
     "metadata": {
      "needs_background": "light"
     },
     "output_type": "display_data"
    }
   ],
   "source": [
    "figure = plt.figure(figsize=(15,8))\n",
    "plt.hist([\n",
    "         tile_df[tile_df['cell_type']=='Melanocytic nevi']['age'],\n",
    "         tile_df[tile_df['cell_type']=='Melanoma']['age'],\n",
    "         tile_df[tile_df['cell_type']=='Benign keratosis-like lesions']['age'],\n",
    "         tile_df[tile_df['cell_type']=='Basal cell carcinoma']['age'],\n",
    "         tile_df[tile_df['cell_type']=='Actinic keratoses']['age'],\n",
    "         tile_df[tile_df['cell_type']=='Vascular lesions']['age'],\n",
    "         tile_df[tile_df['cell_type']=='Dermatofibroma']['age']], \n",
    "         bins = 10,label = ['1','2', '3', '4', '5', '6', '7'])\n",
    "plt.xlabel('Age')\n",
    "plt.ylabel('Number of patients')\n",
    "plt.legend()"
   ]
  },
  {
   "cell_type": "code",
   "execution_count": 15,
   "metadata": {},
   "outputs": [
    {
     "data": {
      "text/plain": [
       "<matplotlib.legend.Legend at 0x7fdc93f728d0>"
      ]
     },
     "execution_count": 15,
     "metadata": {},
     "output_type": "execute_result"
    },
    {
     "data": {
      "image/png": "[encoded data removed]",
      "text/plain": [
       "<Figure size 1080x576 with 1 Axes>"
      ]
     },
     "metadata": {
      "needs_background": "light"
     },
     "output_type": "display_data"
    }
   ],
   "source": [
    "figure = plt.figure(figsize=(15,8))\n",
    "plt.hist([\n",
    "          tile_df[tile_df['sex']==1 ]['cell_type'],\n",
    "         tile_df[tile_df['sex']== 2 ]['cell_type'],\n",
    "         tile_df[tile_df['sex']== 0]['cell_type']], \n",
    "         bins = 10,label = ['1','2', '3', '4', '5', '6', '7'])\n",
    "plt.xlabel('lesion class')\n",
    "plt.ylabel('Number of patients')\n",
    "plt.legend()"
   ]
  },
  {
   "cell_type": "code",
   "execution_count": 26,
   "metadata": {},
   "outputs": [
    {
     "data": {
      "text/plain": [
       "2     2190\n",
       "9     2074\n",
       "12    1401\n",
       "14    1116\n",
       "0     1021\n",
       "5      743\n",
       "3      406\n",
       "6      319\n",
       "13     234\n",
       "10     168\n",
       "11     128\n",
       "8       89\n",
       "4       56\n",
       "7       48\n",
       "1        7\n",
       "Name: localization, dtype: int64"
      ]
     },
     "execution_count": 26,
     "metadata": {},
     "output_type": "execute_result"
    }
   ],
   "source": [
    "tile_df['sex'].value_counts()\n",
    "tile_df['age'].value_counts()\n",
    "tile_df['localization'].value_counts()"
   ]
  },
  {
   "cell_type": "code",
   "execution_count": 30,
   "metadata": {
    "scrolled": true
   },
   "outputs": [
    {
     "data": {
      "text/plain": [
       "<matplotlib.legend.Legend at 0x7fdc93877c18>"
      ]
     },
     "execution_count": 30,
     "metadata": {},
     "output_type": "execute_result"
    },
    {
     "data": {
      "image/png": "[encoded data removed]",
      "text/plain": [
       "<Figure size 1080x576 with 1 Axes>"
      ]
     },
     "metadata": {
      "needs_background": "light"
     },
     "output_type": "display_data"
    }
   ],
   "source": [
    "figure = plt.figure(figsize=(15,8))\n",
    "plt.hist([\n",
    "          tile_df[tile_df['localization']==0 ]['cell_type'],\n",
    "         tile_df[tile_df['localization']== 1 ]['cell_type'],\n",
    "         tile_df[tile_df['localization']== 2]['cell_type'],\n",
    "         tile_df[tile_df['localization']== 3]['cell_type'], \n",
    "         tile_df[tile_df['localization']== 4]['cell_type'], \n",
    "         tile_df[tile_df['localization']== 5]['cell_type'], \n",
    "         tile_df[tile_df['localization']== 6]['cell_type'], \n",
    "         tile_df[tile_df['localization']== 7]['cell_type'], \n",
    "         tile_df[tile_df['localization']== 8]['cell_type'], \n",
    "         tile_df[tile_df['localization']== 9]['cell_type'], \n",
    "         tile_df[tile_df['localization']== 10]['cell_type'], \n",
    "         tile_df[tile_df['localization']== 11]['cell_type'], \n",
    "         tile_df[tile_df['localization']== 12]['cell_type'], \n",
    "         tile_df[tile_df['localization']== 13]['cell_type'], \n",
    "         tile_df[tile_df['localization']== 14]['cell_type']],  \n",
    "         bins = 10,label = ['1','2', '3', '4', '5', '6', '7', '8', '9', '10', '11', '12', '13', '14', '0'])\n",
    "plt.xlabel('lesion class')\n",
    "plt.ylabel('Number of patients')\n",
    "plt.legend()"
   ]
  },
  {
   "cell_type": "code",
   "execution_count": 40,
   "metadata": {
    "scrolled": true
   },
   "outputs": [
    {
     "data": {
      "text/plain": [
       "<matplotlib.legend.Legend at 0x7fdc92d9fbe0>"
      ]
     },
     "execution_count": 40,
     "metadata": {},
     "output_type": "execute_result"
    },
    {
     "data": {
      "image/png": "[encoded data removed]",
      "text/plain": [
       "<Figure size 1080x576 with 1 Axes>"
      ]
     },
     "metadata": {
      "needs_background": "light"
     },
     "output_type": "display_data"
    }
   ],
   "source": [
    "figure = plt.figure(figsize=(15,8))\n",
    "plt.hist([\n",
    "         tile_df[tile_df['cell_type']=='Actinic keratoses']['localization']], \n",
    "         bins = 10,label = ['1','2', '3', '4', '5', '6', '7'])\n",
    "plt.xlabel('location')\n",
    "plt.ylabel('Number of patients')\n",
    "plt.legend()"
   ]
  },
  {
   "cell_type": "code",
   "execution_count": null,
   "metadata": {},
   "outputs": [],
   "source": [
    "lesion_type_dict = {\n",
    "    'nv': 'Melanocytic nevi',\n",
    "    'mel': 'Melanoma',\n",
    "    'bkl': 'Benign keratosis-like lesions ',\n",
    "    'bcc': 'Basal cell carcinoma',\n",
    "    'akiec': 'Actinic keratoses',\n",
    "    'vasc': 'Vascular lesions',\n",
    "    'df': 'Dermatofibroma'\n",
    "}"
   ]
  },
  {
   "cell_type": "code",
   "execution_count": 106,
   "metadata": {
    "scrolled": true
   },
   "outputs": [
    {
     "data": {
      "text/plain": [
       "<matplotlib.axes._subplots.AxesSubplot at 0x7fdc90e4c5c0>"
      ]
     },
     "execution_count": 106,
     "metadata": {},
     "output_type": "execute_result"
    },
    {
     "data": {
      "image/png": "[encoded data removed]",
      "text/plain": [
       "<Figure size 1296x432 with 1 Axes>"
      ]
     },
     "metadata": {
      "needs_background": "light"
     },
     "output_type": "display_data"
    }
   ],
   "source": [
    "a4_dims = (18, 6)\n",
    "fig, ax = plt.subplots(figsize=a4_dims)\n",
    "\n",
    "sns.countplot(ax=ax, x='sex', hue='cell_type', data=tile_df[(tile_df['cell_type']=='Vascular lesions') | (tile_df['cell_type']=='Dermatofibroma')], palette=\"muted\")"
   ]
  },
  {
   "cell_type": "code",
   "execution_count": 103,
   "metadata": {},
   "outputs": [
    {
     "data": {
      "text/plain": [
       "Melanocytic nevi                 6695\n",
       "Melanoma                         1111\n",
       "Benign keratosis-like lesions    1098\n",
       "Basal cell carcinoma              513\n",
       "Actinic keratoses                 326\n",
       "Vascular lesions                  142\n",
       "Dermatofibroma                    115\n",
       "Name: cell_type, dtype: int64"
      ]
     },
     "execution_count": 103,
     "metadata": {},
     "output_type": "execute_result"
    }
   ],
   "source": [
    "tile_df['cell_type'].value_counts()"
   ]
  },
  {
   "cell_type": "code",
   "execution_count": 120,
   "metadata": {
    "scrolled": true
   },
   "outputs": [
    {
     "data": {
      "text/html": [
       "<div>\n",
       "<style scoped>\n",
       "    .dataframe tbody tr th:only-of-type {\n",
       "        vertical-align: middle;\n",
       "    }\n",
       "\n",
       "    .dataframe tbody tr th {\n",
       "        vertical-align: top;\n",
       "    }\n",
       "\n",
       "    .dataframe thead th {\n",
       "        text-align: right;\n",
       "    }\n",
       "</style>\n",
       "<table border=\"1\" class=\"dataframe\">\n",
       "  <thead>\n",
       "    <tr style=\"text-align: right;\">\n",
       "      <th></th>\n",
       "      <th>age</th>\n",
       "      <th>sex</th>\n",
       "      <th>cell_type_idx</th>\n",
       "      <th>localization_code</th>\n",
       "    </tr>\n",
       "  </thead>\n",
       "  <tbody>\n",
       "    <tr>\n",
       "      <th>age</th>\n",
       "      <td>1.000000</td>\n",
       "      <td>0.162909</td>\n",
       "      <td>-0.291496</td>\n",
       "      <td>-0.015329</td>\n",
       "    </tr>\n",
       "    <tr>\n",
       "      <th>sex</th>\n",
       "      <td>0.162909</td>\n",
       "      <td>1.000000</td>\n",
       "      <td>-0.046098</td>\n",
       "      <td>-0.040353</td>\n",
       "    </tr>\n",
       "    <tr>\n",
       "      <th>cell_type_idx</th>\n",
       "      <td>-0.291496</td>\n",
       "      <td>-0.046098</td>\n",
       "      <td>1.000000</td>\n",
       "      <td>0.028431</td>\n",
       "    </tr>\n",
       "    <tr>\n",
       "      <th>localization_code</th>\n",
       "      <td>-0.015329</td>\n",
       "      <td>-0.040353</td>\n",
       "      <td>0.028431</td>\n",
       "      <td>1.000000</td>\n",
       "    </tr>\n",
       "  </tbody>\n",
       "</table>\n",
       "</div>"
      ],
      "text/plain": [
       "                        age       sex  cell_type_idx  localization_code\n",
       "age                1.000000  0.162909      -0.291496          -0.015329\n",
       "sex                0.162909  1.000000      -0.046098          -0.040353\n",
       "cell_type_idx     -0.291496 -0.046098       1.000000           0.028431\n",
       "localization_code -0.015329 -0.040353       0.028431           1.000000"
      ]
     },
     "execution_count": 120,
     "metadata": {},
     "output_type": "execute_result"
    },
    {
     "data": {
      "image/png": "[encoded data removed]",
      "text/plain": [
       "<Figure size 1296x432 with 2 Axes>"
      ]
     },
     "metadata": {
      "needs_background": "light"
     },
     "output_type": "display_data"
    }
   ],
   "source": [
    "a4_dims = (18, 6)\n",
    "fig, ax = plt.subplots(figsize=a4_dims)\n",
    "sns.heatmap(plot_df.corr(), vmax=0.6, square=True, annot=True)\n",
    "plot_df.corr()\n"
   ]
  },
  {
   "cell_type": "code",
   "execution_count": 121,
   "metadata": {},
   "outputs": [
    {
     "data": {
      "text/html": [
       "<div>\n",
       "<style scoped>\n",
       "    .dataframe tbody tr th:only-of-type {\n",
       "        vertical-align: middle;\n",
       "    }\n",
       "\n",
       "    .dataframe tbody tr th {\n",
       "        vertical-align: top;\n",
       "    }\n",
       "\n",
       "    .dataframe thead th {\n",
       "        text-align: right;\n",
       "    }\n",
       "</style>\n",
       "<table border=\"1\" class=\"dataframe\">\n",
       "  <thead>\n",
       "    <tr style=\"text-align: right;\">\n",
       "      <th></th>\n",
       "      <th>lesion_id</th>\n",
       "      <th>image_id</th>\n",
       "      <th>dx</th>\n",
       "      <th>dx_type</th>\n",
       "      <th>age</th>\n",
       "      <th>sex</th>\n",
       "      <th>localization</th>\n",
       "      <th>cell_type</th>\n",
       "      <th>cell_type_idx</th>\n",
       "      <th>localization_code</th>\n",
       "    </tr>\n",
       "  </thead>\n",
       "  <tbody>\n",
       "    <tr>\n",
       "      <th>3119</th>\n",
       "      <td>HAM_0000797</td>\n",
       "      <td>ISIC_0026039</td>\n",
       "      <td>nv</td>\n",
       "      <td>follow_up</td>\n",
       "      <td>50.0</td>\n",
       "      <td>0</td>\n",
       "      <td>lower extremity</td>\n",
       "      <td>Melanocytic nevi</td>\n",
       "      <td>4</td>\n",
       "      <td>9</td>\n",
       "    </tr>\n",
       "    <tr>\n",
       "      <th>7863</th>\n",
       "      <td>HAM_0002502</td>\n",
       "      <td>ISIC_0033425</td>\n",
       "      <td>nv</td>\n",
       "      <td>histo</td>\n",
       "      <td>40.0</td>\n",
       "      <td>1</td>\n",
       "      <td>abdomen</td>\n",
       "      <td>Melanocytic nevi</td>\n",
       "      <td>4</td>\n",
       "      <td>0</td>\n",
       "    </tr>\n",
       "    <tr>\n",
       "      <th>6038</th>\n",
       "      <td>HAM_0005999</td>\n",
       "      <td>ISIC_0030958</td>\n",
       "      <td>nv</td>\n",
       "      <td>follow_up</td>\n",
       "      <td>50.0</td>\n",
       "      <td>0</td>\n",
       "      <td>foot</td>\n",
       "      <td>Melanocytic nevi</td>\n",
       "      <td>4</td>\n",
       "      <td>6</td>\n",
       "    </tr>\n",
       "    <tr>\n",
       "      <th>7737</th>\n",
       "      <td>HAM_0005513</td>\n",
       "      <td>ISIC_0033214</td>\n",
       "      <td>nv</td>\n",
       "      <td>histo</td>\n",
       "      <td>5.0</td>\n",
       "      <td>0</td>\n",
       "      <td>back</td>\n",
       "      <td>Melanocytic nevi</td>\n",
       "      <td>4</td>\n",
       "      <td>2</td>\n",
       "    </tr>\n",
       "    <tr>\n",
       "      <th>5917</th>\n",
       "      <td>HAM_0006576</td>\n",
       "      <td>ISIC_0024606</td>\n",
       "      <td>nv</td>\n",
       "      <td>follow_up</td>\n",
       "      <td>65.0</td>\n",
       "      <td>1</td>\n",
       "      <td>abdomen</td>\n",
       "      <td>Melanocytic nevi</td>\n",
       "      <td>4</td>\n",
       "      <td>0</td>\n",
       "    </tr>\n",
       "  </tbody>\n",
       "</table>\n",
       "</div>"
      ],
      "text/plain": [
       "        lesion_id      image_id  dx    dx_type   age  sex     localization  \\\n",
       "3119  HAM_0000797  ISIC_0026039  nv  follow_up  50.0    0  lower extremity   \n",
       "7863  HAM_0002502  ISIC_0033425  nv      histo  40.0    1          abdomen   \n",
       "6038  HAM_0005999  ISIC_0030958  nv  follow_up  50.0    0             foot   \n",
       "7737  HAM_0005513  ISIC_0033214  nv      histo   5.0    0             back   \n",
       "5917  HAM_0006576  ISIC_0024606  nv  follow_up  65.0    1          abdomen   \n",
       "\n",
       "             cell_type  cell_type_idx  localization_code  \n",
       "3119  Melanocytic nevi              4                  9  \n",
       "7863  Melanocytic nevi              4                  0  \n",
       "6038  Melanocytic nevi              4                  6  \n",
       "7737  Melanocytic nevi              4                  2  \n",
       "5917  Melanocytic nevi              4                  0  "
      ]
     },
     "execution_count": 121,
     "metadata": {},
     "output_type": "execute_result"
    }
   ],
   "source": [
    "tile_df.head()"
   ]
  },
  {
   "cell_type": "code",
   "execution_count": null,
   "metadata": {},
   "outputs": [],
   "source": []
  }
 ],
 "metadata": {
  "kernelspec": {
   "display_name": "Python 3",
   "language": "python",
   "name": "python3"
  },
  "language_info": {
   "codemirror_mode": {
    "name": "ipython",
    "version": 3
   },
   "file_extension": ".py",
   "mimetype": "text/x-python",
   "name": "python",
   "nbconvert_exporter": "python",
   "pygments_lexer": "ipython3",
   "version": "3.6.8"
  }
 },
 "nbformat": 4,
 "nbformat_minor": 2
}
